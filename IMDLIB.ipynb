{
  "nbformat": 4,
  "nbformat_minor": 0,
  "metadata": {
    "colab": {
      "provenance": [],
      "include_colab_link": true
    },
    "kernelspec": {
      "name": "python3",
      "display_name": "Python 3"
    },
    "language_info": {
      "name": "python"
    }
  },
  "cells": [
    {
      "cell_type": "markdown",
      "metadata": {
        "id": "view-in-github",
        "colab_type": "text"
      },
      "source": [
        "<a href=\"https://colab.research.google.com/github/SarsijNayan/earthengine-community/blob/master/IMDLIB.ipynb\" target=\"_parent\"><img src=\"https://colab.research.google.com/assets/colab-badge.svg\" alt=\"Open In Colab\"/></a>"
      ]
    },
    {
      "cell_type": "code",
      "execution_count": 5,
      "metadata": {
        "id": "TfjD2mg2vqEa",
        "outputId": "ec60f258-2f1a-4515-9f50-1b41bcb22cb2",
        "colab": {
          "base_uri": "https://localhost:8080/"
        }
      },
      "outputs": [
        {
          "output_type": "stream",
          "name": "stdout",
          "text": [
            "Mounted at /content/drive\n"
          ]
        }
      ],
      "source": [
        "# Connect Google drive with Google colab\n",
        "from google.colab import drive\n",
        "drive.mount('/content/drive')"
      ]
    },
    {
      "cell_type": "code",
      "source": [
        "pip install imdlib"
      ],
      "metadata": {
        "id": "PtPYYBK4vujK",
        "outputId": "6ac0c448-1ad6-43e6-cfab-9e478f4149b4",
        "colab": {
          "base_uri": "https://localhost:8080/"
        }
      },
      "execution_count": 6,
      "outputs": [
        {
          "output_type": "stream",
          "name": "stdout",
          "text": [
            "Collecting imdlib\n",
            "  Downloading imdlib-0.1.20-py3-none-any.whl.metadata (6.7 kB)\n",
            "Requirement already satisfied: matplotlib in /usr/local/lib/python3.11/dist-packages (from imdlib) (3.10.0)\n",
            "Requirement already satisfied: numpy in /usr/local/lib/python3.11/dist-packages (from imdlib) (1.26.4)\n",
            "Requirement already satisfied: pandas in /usr/local/lib/python3.11/dist-packages (from imdlib) (2.2.2)\n",
            "Requirement already satisfied: six in /usr/local/lib/python3.11/dist-packages (from imdlib) (1.17.0)\n",
            "Requirement already satisfied: python-dateutil in /usr/local/lib/python3.11/dist-packages (from imdlib) (2.8.2)\n",
            "Requirement already satisfied: pytz in /usr/local/lib/python3.11/dist-packages (from imdlib) (2025.1)\n",
            "Requirement already satisfied: urllib3 in /usr/local/lib/python3.11/dist-packages (from imdlib) (2.3.0)\n",
            "Requirement already satisfied: scipy in /usr/local/lib/python3.11/dist-packages (from imdlib) (1.13.1)\n",
            "Requirement already satisfied: xarray in /usr/local/lib/python3.11/dist-packages (from imdlib) (2025.1.2)\n",
            "Requirement already satisfied: requests in /usr/local/lib/python3.11/dist-packages (from imdlib) (2.32.3)\n",
            "Requirement already satisfied: contourpy>=1.0.1 in /usr/local/lib/python3.11/dist-packages (from matplotlib->imdlib) (1.3.1)\n",
            "Requirement already satisfied: cycler>=0.10 in /usr/local/lib/python3.11/dist-packages (from matplotlib->imdlib) (0.12.1)\n",
            "Requirement already satisfied: fonttools>=4.22.0 in /usr/local/lib/python3.11/dist-packages (from matplotlib->imdlib) (4.56.0)\n",
            "Requirement already satisfied: kiwisolver>=1.3.1 in /usr/local/lib/python3.11/dist-packages (from matplotlib->imdlib) (1.4.8)\n",
            "Requirement already satisfied: packaging>=20.0 in /usr/local/lib/python3.11/dist-packages (from matplotlib->imdlib) (24.2)\n",
            "Requirement already satisfied: pillow>=8 in /usr/local/lib/python3.11/dist-packages (from matplotlib->imdlib) (11.1.0)\n",
            "Requirement already satisfied: pyparsing>=2.3.1 in /usr/local/lib/python3.11/dist-packages (from matplotlib->imdlib) (3.2.1)\n",
            "Requirement already satisfied: tzdata>=2022.7 in /usr/local/lib/python3.11/dist-packages (from pandas->imdlib) (2025.1)\n",
            "Requirement already satisfied: charset-normalizer<4,>=2 in /usr/local/lib/python3.11/dist-packages (from requests->imdlib) (3.4.1)\n",
            "Requirement already satisfied: idna<4,>=2.5 in /usr/local/lib/python3.11/dist-packages (from requests->imdlib) (3.10)\n",
            "Requirement already satisfied: certifi>=2017.4.17 in /usr/local/lib/python3.11/dist-packages (from requests->imdlib) (2025.1.31)\n",
            "Downloading imdlib-0.1.20-py3-none-any.whl (21 kB)\n",
            "Installing collected packages: imdlib\n",
            "Successfully installed imdlib-0.1.20\n"
          ]
        }
      ]
    },
    {
      "cell_type": "code",
      "source": [
        "# Download the IMD raw data into the google drive\n",
        "import imdlib as imd\n",
        "import pandas as pd\n",
        "import geopandas as gpd\n",
        "from shapely.geometry import Point, Polygon\n",
        "\n",
        "path = \"/content/drive/MyDrive/Colab Notebooks\"\n",
        "\n",
        "start_yr = 2019\n",
        "end_yr = 2024\n",
        "variable = 'rain' # other options are ('tmin'/ 'tmax')\n",
        "\n",
        "imd.get_data(variable, start_yr, end_yr, fn_format='yearwise', file_dir=path)\n",
        "data = imd.open_data(variable, start_yr, end_yr,'yearwise', path)\n",
        "ds = data.get_xarray()\n",
        "print(ds)\n",
        "\n"
      ],
      "metadata": {
        "id": "dxoZ92AHvwNr",
        "outputId": "b75cfbde-1fea-4ece-8e1c-15538983422e",
        "colab": {
          "base_uri": "https://localhost:8080/"
        }
      },
      "execution_count": 7,
      "outputs": [
        {
          "output_type": "stream",
          "name": "stdout",
          "text": [
            "Downloading: rain for year 2019\n",
            "Downloading: rain for year 2020\n",
            "Downloading: rain for year 2021\n",
            "Downloading: rain for year 2022\n",
            "Downloading: rain for year 2023\n",
            "Downloading: rain for year 2024\n",
            "Download Successful !!!\n",
            "<xarray.Dataset> Size: 305MB\n",
            "Dimensions:  (time: 2192, lat: 129, lon: 135)\n",
            "Coordinates:\n",
            "  * lat      (lat) float64 1kB 6.5 6.75 7.0 7.25 7.5 ... 37.75 38.0 38.25 38.5\n",
            "  * lon      (lon) float64 1kB 66.5 66.75 67.0 67.25 ... 99.25 99.5 99.75 100.0\n",
            "  * time     (time) datetime64[ns] 18kB 2019-01-01 2019-01-02 ... 2024-12-31\n",
            "Data variables:\n",
            "    rain     (time, lat, lon) float64 305MB -999.0 -999.0 ... -999.0 -999.0\n",
            "Attributes:\n",
            "    Conventions:  CF-1.7\n",
            "    title:        IMD gridded data\n",
            "    source:       https://imdpune.gov.in/\n",
            "    history:      2025-03-10 04:52:44.342251 Python\n",
            "    references:   \n",
            "    comment:      \n",
            "    crs:          epsg:4326\n"
          ]
        }
      ]
    },
    {
      "cell_type": "code",
      "source": [
        "# Provide the alttitude & Longitude of a point for which the data is required\n",
        "#  And save the data into CSV file\n",
        "\n",
        "lat = 25.90 #lattitude of point\n",
        "lon = 85.10 #longitude of point\n",
        "data.to_csv('data.csv', lat, lon, path)"
      ],
      "metadata": {
        "id": "jMlaw45Dv5UE"
      },
      "execution_count": 8,
      "outputs": []
    },
    {
      "cell_type": "code",
      "source": [
        "# Save CSV files for multiple points\n",
        "\n",
        "# Provide lat and long in a list\n",
        "latLong = [\n",
        "    [25.90, 85.10],  # Patna (Central Bihar)\n",
        "    [25.50, 86.98],  # Bhagalpur\n",
        "    [26.12, 84.20],  # Gopalganj\n",
        "]\n",
        "\n",
        "for points in latLong:\n",
        "  lat = points[0]\n",
        "  lon = points[1]\n",
        "\n",
        "  data.to_csv('test.csv', lat, lon, path)\n",
        "  print (\"data save for \",points)"
      ],
      "metadata": {
        "id": "o5BHr3Fev3W6",
        "outputId": "de1bd589-2759-430e-fcd4-d2d3653cfbb8",
        "colab": {
          "base_uri": "https://localhost:8080/"
        }
      },
      "execution_count": 9,
      "outputs": [
        {
          "output_type": "stream",
          "name": "stdout",
          "text": [
            "data save for  [25.9, 85.1]\n",
            "data save for  [25.5, 86.98]\n",
            "data save for  [26.12, 84.2]\n"
          ]
        }
      ]
    },
    {
      "cell_type": "code",
      "source": [
        "import pandas as pd\n",
        "import geopandas as gpd\n",
        "from shapely.geometry import Point\n",
        "import requests\n",
        "\n",
        "# Provide the new GeoJSON file link\n",
        "geojson_url = \"https://drive.google.com/uc?id=\" + \"1KjYAcFomJwLQf1Q-JRNJJGpwTzKiecmd\"\n",
        "\n",
        "# Download the GeoJSON file\n",
        "geojson_file = 'Test_geojson.geojson'\n",
        "response = requests.get(geojson_url)\n",
        "with open(geojson_file, 'wb') as file:\n",
        "    file.write(response.content)\n",
        "\n",
        "# Data points CSV link\n",
        "url = \"https://drive.google.com/uc?id=111XvmUzvTlhY2lbFMseGVhZQh4pisFXQ\"  # Replace with your data points file link\n",
        "points_df = pd.read_csv(url)\n",
        "\n",
        "# Creating geometry column for the points dataframe\n",
        "geometry = [Point(xy) for xy in zip(points_df['Long'], points_df['Lat'])]\n",
        "\n",
        "# Creating GeoDataFrame for points\n",
        "gdf_points = gpd.GeoDataFrame(points_df, geometry=geometry)\n",
        "\n",
        "# Set CRS (EPSG:4326 is WGS84 Lat/Long)\n",
        "gdf_points.set_crs(epsg=4326, inplace=True)\n",
        "\n",
        "# Load the GeoJSON polygon file as GeoDataFrame\n",
        "gdf_polygon = gpd.read_file(geojson_file)\n",
        "\n",
        "# Ensure both GeoDataFrames have the same CRS\n",
        "if gdf_points.crs != gdf_polygon.crs:\n",
        "    gdf_points = gdf_points.to_crs(gdf_polygon.crs)\n",
        "\n",
        "# Find points lying within the polygon\n",
        "gdf_list = []\n",
        "for row in range(len(gdf_polygon)):\n",
        "    points_in_polygon = gdf_points[gdf_points.within(gdf_polygon.iloc[row].geometry)]\n",
        "    gdf_list.append(points_in_polygon)\n",
        "\n",
        "# Combine all points within polygons into a single GeoDataFrame\n",
        "final_gdf = gpd.GeoDataFrame(pd.concat(gdf_list, ignore_index=True))\n",
        "\n",
        "# Save the filtered data to a CSV file\n",
        "final_df = final_gdf[[\"Name\", \"Lat\", \"Long\"]]\n",
        "final_df.to_csv(\"Master_file.csv\", index=False)\n",
        "\n",
        "# Save gridded data for each point\n",
        "for index, row in final_df.iterrows():\n",
        "    lat = row['Lat']\n",
        "    lon = row['Long']\n",
        "    # Assuming `data` contains the gridded data to be saved\n",
        "    data.to_csv(f\"test_{lat}_{lon}.csv\", lat, lon, path)\n",
        "    print(\"Data saved for point:\", lat, lon)\n"
      ],
      "metadata": {
        "id": "A_tNtQFPv61j",
        "outputId": "85c856a9-31e8-44be-8f0e-cc0180d21328",
        "colab": {
          "base_uri": "https://localhost:8080/"
        }
      },
      "execution_count": 15,
      "outputs": [
        {
          "output_type": "stream",
          "name": "stdout",
          "text": [
            "Data saved for point: 24.5 84.5\n",
            "Data saved for point: 24.5 84.75\n",
            "Data saved for point: 24.5 85.0\n",
            "Data saved for point: 24.5 85.25\n",
            "Data saved for point: 24.75 83.5\n",
            "Data saved for point: 24.75 83.75\n",
            "Data saved for point: 24.75 84.0\n",
            "Data saved for point: 24.75 84.25\n",
            "Data saved for point: 24.75 84.5\n",
            "Data saved for point: 24.75 84.75\n",
            "Data saved for point: 24.75 85.0\n",
            "Data saved for point: 24.75 85.25\n",
            "Data saved for point: 24.75 85.5\n",
            "Data saved for point: 24.75 86.25\n",
            "Data saved for point: 24.75 86.5\n",
            "Data saved for point: 24.75 86.75\n",
            "Data saved for point: 24.75 87.0\n",
            "Data saved for point: 25.0 83.5\n",
            "Data saved for point: 25.0 83.75\n",
            "Data saved for point: 25.0 84.0\n",
            "Data saved for point: 25.0 84.25\n",
            "Data saved for point: 25.0 84.5\n",
            "Data saved for point: 25.0 84.75\n",
            "Data saved for point: 25.0 85.0\n",
            "Data saved for point: 25.0 85.25\n",
            "Data saved for point: 25.0 85.5\n",
            "Data saved for point: 25.0 85.75\n",
            "Data saved for point: 25.0 86.0\n",
            "Data saved for point: 25.0 86.25\n",
            "Data saved for point: 25.0 86.5\n",
            "Data saved for point: 25.0 86.75\n",
            "Data saved for point: 25.0 87.0\n",
            "Data saved for point: 25.25 83.5\n",
            "Data saved for point: 25.25 83.75\n",
            "Data saved for point: 25.25 84.0\n",
            "Data saved for point: 25.25 84.25\n",
            "Data saved for point: 25.25 84.5\n",
            "Data saved for point: 25.25 84.75\n",
            "Data saved for point: 25.25 85.0\n",
            "Data saved for point: 25.25 85.25\n",
            "Data saved for point: 25.25 85.5\n",
            "Data saved for point: 25.25 85.75\n",
            "Data saved for point: 25.25 86.0\n",
            "Data saved for point: 25.25 86.25\n",
            "Data saved for point: 25.25 86.5\n",
            "Data saved for point: 25.25 86.75\n",
            "Data saved for point: 25.25 87.0\n",
            "Data saved for point: 25.25 87.25\n",
            "Data saved for point: 25.5 84.0\n",
            "Data saved for point: 25.5 84.25\n",
            "Data saved for point: 25.5 84.5\n",
            "Data saved for point: 25.5 84.75\n",
            "Data saved for point: 25.5 85.0\n",
            "Data saved for point: 25.5 85.25\n",
            "Data saved for point: 25.5 85.5\n",
            "Data saved for point: 25.5 85.75\n",
            "Data saved for point: 25.5 86.0\n",
            "Data saved for point: 25.5 86.25\n",
            "Data saved for point: 25.5 86.5\n",
            "Data saved for point: 25.5 86.75\n",
            "Data saved for point: 25.5 87.0\n",
            "Data saved for point: 25.5 87.25\n",
            "Data saved for point: 25.5 87.5\n",
            "Data saved for point: 25.5 87.75\n",
            "Data saved for point: 25.5 88.0\n",
            "Data saved for point: 25.75 84.75\n",
            "Data saved for point: 25.75 85.0\n",
            "Data saved for point: 25.75 85.25\n",
            "Data saved for point: 25.75 85.5\n",
            "Data saved for point: 25.75 85.75\n",
            "Data saved for point: 25.75 86.0\n",
            "Data saved for point: 25.75 86.25\n",
            "Data saved for point: 25.75 86.5\n",
            "Data saved for point: 25.75 86.75\n",
            "Data saved for point: 25.75 87.0\n",
            "Data saved for point: 25.75 87.25\n",
            "Data saved for point: 25.75 87.5\n",
            "Data saved for point: 25.75 87.75\n",
            "Data saved for point: 26.0 84.25\n",
            "Data saved for point: 26.0 84.5\n",
            "Data saved for point: 26.0 84.75\n",
            "Data saved for point: 26.0 85.0\n",
            "Data saved for point: 26.0 85.25\n",
            "Data saved for point: 26.0 85.5\n",
            "Data saved for point: 26.0 85.75\n",
            "Data saved for point: 26.0 86.0\n",
            "Data saved for point: 26.0 86.25\n",
            "Data saved for point: 26.0 86.5\n",
            "Data saved for point: 26.0 86.75\n",
            "Data saved for point: 26.0 87.0\n",
            "Data saved for point: 26.0 87.25\n",
            "Data saved for point: 26.0 87.5\n",
            "Data saved for point: 26.0 87.75\n",
            "Data saved for point: 26.25 84.25\n",
            "Data saved for point: 26.25 84.5\n",
            "Data saved for point: 26.25 84.75\n",
            "Data saved for point: 26.25 85.0\n",
            "Data saved for point: 26.25 85.25\n",
            "Data saved for point: 26.25 85.5\n",
            "Data saved for point: 26.25 85.75\n",
            "Data saved for point: 26.25 86.0\n",
            "Data saved for point: 26.25 86.25\n",
            "Data saved for point: 26.25 86.5\n",
            "Data saved for point: 26.25 86.75\n",
            "Data saved for point: 26.25 87.0\n",
            "Data saved for point: 26.25 87.25\n",
            "Data saved for point: 26.25 87.5\n",
            "Data saved for point: 26.25 87.75\n",
            "Data saved for point: 26.25 88.0\n",
            "Data saved for point: 26.5 84.0\n",
            "Data saved for point: 26.5 84.25\n",
            "Data saved for point: 26.5 84.5\n",
            "Data saved for point: 26.5 84.75\n",
            "Data saved for point: 26.5 85.0\n",
            "Data saved for point: 26.5 85.25\n",
            "Data saved for point: 26.5 85.5\n",
            "Data saved for point: 26.5 85.75\n",
            "Data saved for point: 26.5 86.0\n",
            "Data saved for point: 26.5 86.25\n",
            "Data saved for point: 26.5 86.5\n",
            "Data saved for point: 26.5 87.0\n",
            "Data saved for point: 26.75 84.25\n",
            "Data saved for point: 26.75 84.5\n",
            "Data saved for point: 26.75 84.75\n",
            "Data saved for point: 26.75 85.0\n",
            "Data saved for point: 26.75 85.25\n",
            "Data saved for point: 26.75 85.5\n",
            "Data saved for point: 27.0 84.25\n",
            "Data saved for point: 27.0 84.5\n",
            "Data saved for point: 27.0 84.75\n",
            "Data saved for point: 27.25 84.0\n",
            "Data saved for point: 27.25 84.25\n",
            "Data saved for point: 27.25 84.5\n"
          ]
        }
      ]
    }
  ]
}